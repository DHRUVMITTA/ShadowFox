{
 "cells": [
  {
   "cell_type": "markdown",
   "id": "aadcb308-717a-46d7-8f3f-4227b20a6ca3",
   "metadata": {},
   "source": [
    "# Task 1\n"
   ]
  },
  {
   "cell_type": "markdown",
   "id": "e07e03da-07d2-46b6-aae9-08415afb05e5",
   "metadata": {},
   "source": [
    "### 1.Variables"
   ]
  },
  {
   "cell_type": "code",
   "execution_count": 1,
   "id": "f13fbdf3-2b5a-4375-816a-b4f3ae5f2d68",
   "metadata": {},
   "outputs": [
    {
     "data": {
      "text/plain": [
       "float"
      ]
     },
     "execution_count": 1,
     "metadata": {},
     "output_type": "execute_result"
    }
   ],
   "source": [
    "pi=22/7\n",
    "type(pi)"
   ]
  },
  {
   "cell_type": "code",
   "execution_count": 2,
   "id": "bf4fe01d-6961-4644-92d5-aaa0f10aeeb8",
   "metadata": {},
   "outputs": [
    {
     "ename": "SyntaxError",
     "evalue": "invalid syntax (3639871942.py, line 1)",
     "output_type": "error",
     "traceback": [
      "\u001b[1;36m  Cell \u001b[1;32mIn[2], line 1\u001b[1;36m\u001b[0m\n\u001b[1;33m    for=4\u001b[0m\n\u001b[1;37m       ^\u001b[0m\n\u001b[1;31mSyntaxError\u001b[0m\u001b[1;31m:\u001b[0m invalid syntax\n"
     ]
    }
   ],
   "source": [
    "for=4\n",
    "#it is a keyword"
   ]
  },
  {
   "cell_type": "code",
   "execution_count": 4,
   "id": "12c4658d-f40e-48b9-a4f9-3a5f48ddad42",
   "metadata": {},
   "outputs": [
    {
     "data": {
      "text/plain": [
       "2175.0"
      ]
     },
     "execution_count": 4,
     "metadata": {},
     "output_type": "execute_result"
    }
   ],
   "source": [
    "p=10000\n",
    "r=0.0725\n",
    "t=3\n",
    "SI=p*r*t\n",
    "SI"
   ]
  },
  {
   "cell_type": "markdown",
   "id": "adc7f1e6-e9d3-4e34-af0c-a40056bbd065",
   "metadata": {},
   "source": [
    "### 2.Numbers"
   ]
  },
  {
   "cell_type": "code",
   "execution_count": 6,
   "id": "28122f2e-e11f-4d3d-bb70-d22c0bc0a2cd",
   "metadata": {},
   "outputs": [
    {
     "name": "stdout",
     "output_type": "stream",
     "text": [
      "first argument: 145, second argument: o\n"
     ]
    }
   ],
   "source": [
    "def demo(x, y):\n",
    "    print(\"first argument: {}, second argument: {}\".format(x, y))\n",
    "\n",
    "demo(145, \"o\")\n"
   ]
  },
  {
   "cell_type": "code",
   "execution_count": 7,
   "id": "7d751ad4-ad3e-42ba-bd41-e67c95f1a86a",
   "metadata": {},
   "outputs": [
    {
     "data": {
      "text/plain": [
       "22176.0"
      ]
     },
     "execution_count": 7,
     "metadata": {},
     "output_type": "execute_result"
    }
   ],
   "source": [
    "#2.\n",
    "r=84\n",
    "area=22/7*r**2\n",
    "area"
   ]
  },
  {
   "cell_type": "code",
   "execution_count": 8,
   "id": "5d302a74-4e59-4173-8feb-2c48ba4f2a8f",
   "metadata": {},
   "outputs": [
    {
     "data": {
      "text/plain": [
       "31046"
      ]
     },
     "execution_count": 8,
     "metadata": {},
     "output_type": "execute_result"
    }
   ],
   "source": [
    "res=1.4*area\n",
    "int(res)"
   ]
  },
  {
   "cell_type": "code",
   "execution_count": 11,
   "id": "444e4a63-9632-4f68-a5bd-29d82e210f8a",
   "metadata": {},
   "outputs": [
    {
     "data": {
      "text/plain": [
       "1"
      ]
     },
     "execution_count": 11,
     "metadata": {},
     "output_type": "execute_result"
    }
   ],
   "source": [
    "#3.\n",
    "d=490\n",
    "t=7*60\n",
    "s=d/t\n",
    "round(s)"
   ]
  },
  {
   "cell_type": "markdown",
   "id": "193f602c-016f-4f94-a1b7-a2589adeddd5",
   "metadata": {},
   "source": [
    "### 3.List"
   ]
  },
  {
   "cell_type": "code",
   "execution_count": 13,
   "id": "853e1b4a-134b-4b7f-83e8-bd58c4b3e324",
   "metadata": {},
   "outputs": [
    {
     "data": {
      "text/plain": [
       "6"
      ]
     },
     "execution_count": 13,
     "metadata": {},
     "output_type": "execute_result"
    }
   ],
   "source": [
    "justice_league = [\"Superman\",\"Batman\",\"Wonder Woman\",\"Flash\",\"Aquaman\",\"Green Lantern\"]\n",
    "len(justice_league)"
   ]
  },
  {
   "cell_type": "code",
   "execution_count": 24,
   "id": "8f71c6ca-6829-4781-b344-5cca9bdd43a7",
   "metadata": {},
   "outputs": [],
   "source": [
    "justice_league.append(\"Nightwing\")"
   ]
  },
  {
   "cell_type": "code",
   "execution_count": 25,
   "id": "bbc3f744-1550-4a3b-ab05-82ba5eb7fba7",
   "metadata": {
    "scrolled": true
   },
   "outputs": [
    {
     "data": {
      "text/plain": [
       "['Superman',\n",
       " 'Batman',\n",
       " 'Wonder Woman',\n",
       " 'Flash',\n",
       " 'Aquaman',\n",
       " 'Green Lantern',\n",
       " 'Batgirl',\n",
       " 'Nightwing']"
      ]
     },
     "execution_count": 25,
     "metadata": {},
     "output_type": "execute_result"
    }
   ],
   "source": [
    "justice_league"
   ]
  },
  {
   "cell_type": "code",
   "execution_count": 26,
   "id": "d4b33d75-4911-4159-9a04-0558485af582",
   "metadata": {},
   "outputs": [],
   "source": [
    "justice_league.remove(\"Wonder Woman\")"
   ]
  },
  {
   "cell_type": "code",
   "execution_count": 27,
   "id": "da2ebe9f-0534-4082-94ef-b2ce73eefd10",
   "metadata": {},
   "outputs": [],
   "source": [
    "justice_league.insert(0,\"Wonder Woman\")"
   ]
  },
  {
   "cell_type": "code",
   "execution_count": 28,
   "id": "00e91384-8f08-4d1f-a8a1-4c17a3a4535a",
   "metadata": {},
   "outputs": [
    {
     "data": {
      "text/plain": [
       "['Wonder Woman',\n",
       " 'Superman',\n",
       " 'Batman',\n",
       " 'Flash',\n",
       " 'Aquaman',\n",
       " 'Green Lantern',\n",
       " 'Batgirl',\n",
       " 'Nightwing']"
      ]
     },
     "execution_count": 28,
     "metadata": {},
     "output_type": "execute_result"
    }
   ],
   "source": [
    "justice_league"
   ]
  },
  {
   "cell_type": "code",
   "execution_count": 29,
   "id": "5ad80f52-5698-4468-9c4c-0891f3cb64ee",
   "metadata": {},
   "outputs": [],
   "source": [
    "justice_league.remove(\"Flash\")\n",
    "justice_league.insert(5,\"Flash\")"
   ]
  },
  {
   "cell_type": "code",
   "execution_count": 30,
   "id": "74bb5533-cb89-4adb-9ff0-12ab3ac62d3f",
   "metadata": {},
   "outputs": [
    {
     "data": {
      "text/plain": [
       "['Wonder Woman',\n",
       " 'Superman',\n",
       " 'Batman',\n",
       " 'Aquaman',\n",
       " 'Green Lantern',\n",
       " 'Flash',\n",
       " 'Batgirl',\n",
       " 'Nightwing']"
      ]
     },
     "execution_count": 30,
     "metadata": {},
     "output_type": "execute_result"
    }
   ],
   "source": [
    "justice_league\n"
   ]
  },
  {
   "cell_type": "code",
   "execution_count": 31,
   "id": "6d0a1b76-6201-423b-80ed-7ef4edf954aa",
   "metadata": {},
   "outputs": [],
   "source": [
    "del(justice_league)"
   ]
  },
  {
   "cell_type": "code",
   "execution_count": 34,
   "id": "39e7cb81-7ed4-4733-a77e-210d31e39477",
   "metadata": {},
   "outputs": [],
   "source": [
    "justice_league=[\"Cyborg\"\n",
    ",\n",
    "\"Shazam\"\n",
    ",\n",
    "\"Hawkgirl\"\n",
    ",\n",
    "\"Martian Manhunter\"\n",
    ",\n",
    "\"Green Arrow\"]"
   ]
  },
  {
   "cell_type": "code",
   "execution_count": 35,
   "id": "9502802c-ec85-46b2-928e-6e10bcafc31d",
   "metadata": {},
   "outputs": [
    {
     "data": {
      "text/plain": [
       "['Cyborg', 'Shazam', 'Hawkgirl', 'Martian Manhunter', 'Green Arrow']"
      ]
     },
     "execution_count": 35,
     "metadata": {},
     "output_type": "execute_result"
    }
   ],
   "source": [
    "justice_league"
   ]
  },
  {
   "cell_type": "code",
   "execution_count": 36,
   "id": "0db26fa0-b75f-4fe1-b90c-416af29b704e",
   "metadata": {},
   "outputs": [],
   "source": [
    "justice_league.sort()"
   ]
  },
  {
   "cell_type": "code",
   "execution_count": 37,
   "id": "2b2aa431-f55a-4e05-b3d9-7e86996d56f4",
   "metadata": {},
   "outputs": [
    {
     "data": {
      "text/plain": [
       "['Cyborg', 'Green Arrow', 'Hawkgirl', 'Martian Manhunter', 'Shazam']"
      ]
     },
     "execution_count": 37,
     "metadata": {},
     "output_type": "execute_result"
    }
   ],
   "source": [
    "justice_league"
   ]
  },
  {
   "cell_type": "markdown",
   "id": "36b4047a-9197-4022-b27e-d5daef2eb6c0",
   "metadata": {},
   "source": [
    "#### new leader is Cyborg"
   ]
  },
  {
   "cell_type": "markdown",
   "id": "9979ce15-6434-4f87-aac9-234708018e0a",
   "metadata": {},
   "source": [
    "### 4.If Condition"
   ]
  },
  {
   "cell_type": "code",
   "execution_count": 47,
   "id": "7a84b4e5-e524-4291-b6c9-e8fd13a5cf84",
   "metadata": {},
   "outputs": [
    {
     "name": "stdin",
     "output_type": "stream",
     "text": [
      "Enter height in meters 1.75\n",
      "Enter weight in kilograms 70\n"
     ]
    },
    {
     "name": "stdout",
     "output_type": "stream",
     "text": [
      "Normal\n"
     ]
    }
   ],
   "source": [
    "h=float(input(\"Enter height in meters\"))\n",
    "w=int(input(\"Enter weight in kilograms\"))\n",
    "BMI=w/h**2\n",
    "\n",
    "if (BMI>=30):\n",
    "    print(\"Obesity\")\n",
    "elif (25<BMI<29):\n",
    "    print(\"Overweight\")\n",
    "elif (18.5<BMI<25):\n",
    "    print(\"Normal\")\n",
    "else:\n",
    "    print(\"Underweight\")\n"
   ]
  },
  {
   "cell_type": "code",
   "execution_count": 51,
   "id": "b446de43-3553-41c7-8e75-cd7e19b7b815",
   "metadata": {},
   "outputs": [
    {
     "name": "stdin",
     "output_type": "stream",
     "text": [
      "enter a city name Delhi\n"
     ]
    },
    {
     "name": "stdout",
     "output_type": "stream",
     "text": [
      "India\n"
     ]
    },
    {
     "name": "stdin",
     "output_type": "stream",
     "text": [
      "Enter the first city:  Delhi\n",
      "Enter the second city:  Chennai\n"
     ]
    },
    {
     "name": "stdout",
     "output_type": "stream",
     "text": [
      "Both cities are in India\n"
     ]
    }
   ],
   "source": [
    "Australia = [\"Sydney\"\n",
    ",\n",
    "\"Melbourne\"\n",
    ",\n",
    "\"Brisbane\"\n",
    ",\n",
    "\"Perth\"]\n",
    "\n",
    "UAE = [\"Dubai\"\n",
    ",\n",
    "\"Abu Dhabi\"\n",
    ",\n",
    "\"Sharjah\"\n",
    ",\n",
    "\"Ajman\"]\n",
    "\n",
    "India = [\"Mumbai\"\n",
    ",\n",
    "\"Bangalore\"\n",
    ",\n",
    "\"Chennai\"\n",
    ",\n",
    "\"Delhi\"]\n",
    "search=input(\"enter a city name\")\n",
    "if search in India:\n",
    "    print(\"India\")\n",
    "elif search in UAE:\n",
    "    print(\"UAE\")\n",
    "elif srearch in Australia:\n",
    "    print(\"Australia\")\n",
    "else:\n",
    "    print(\"Invalid input\")\n",
    "city1 = input(\"Enter the first city: \")\n",
    "city2 = input(\"Enter the second city: \")\n",
    "if city1 in  India and  city2  in India :\n",
    "    print(\"Both cities are in India\")\n",
    "elif city1 in  UAE and city2 in  UAE:\n",
    "    print(\"Both cities are in UAE\")\n",
    "elif city1 in Australia and city2 in Australia:\n",
    "    print(\"Both cities are in Australia\")\n",
    "else:\n",
    "    print(\"They don't belong to the same country\")"
   ]
  },
  {
   "cell_type": "markdown",
   "id": "666544f3-7aa7-4ea3-bcf3-a5552cad2cfc",
   "metadata": {},
   "source": [
    "### 5.For Loop"
   ]
  },
  {
   "cell_type": "code",
   "execution_count": 52,
   "id": "f4cb5e0d-87d0-460f-bca9-773a338dbe7b",
   "metadata": {},
   "outputs": [
    {
     "name": "stdout",
     "output_type": "stream",
     "text": [
      "Number of times rolled a 6: 5\n",
      "Number of times rolled a 1: 6\n",
      "Number of times rolled two 6s in a row: 1\n"
     ]
    }
   ],
   "source": [
    "import random\n",
    "\n",
    "rolls = 20\n",
    "count_6 = 0\n",
    "count_1 = 0\n",
    "count_double_6 = 0\n",
    "previous_roll = None\n",
    "\n",
    "for _ in range(rolls):\n",
    "    roll = random.randint(1, 6)\n",
    "    \n",
    "    if roll == 6:\n",
    "        count_6 += 1\n",
    "        if previous_roll == 6:\n",
    "            count_double_6 += 1\n",
    "    elif roll == 1:\n",
    "        count_1 += 1\n",
    "    \n",
    "    # Update previous roll\n",
    "    previous_roll = roll\n",
    "\n",
    "# Print the statistics\n",
    "print(f\"Number of times rolled a 6: {count_6}\")\n",
    "print(f\"Number of times rolled a 1: {count_1}\")\n",
    "print(f\"Number of times rolled two 6s in a row: {count_double_6}\")\n"
   ]
  },
  {
   "cell_type": "code",
   "execution_count": 59,
   "id": "81441779-5382-438a-90b9-5d3e5e4f5c1e",
   "metadata": {},
   "outputs": [
    {
     "name": "stdin",
     "output_type": "stream",
     "text": [
      "Are you tired? (yes/no):  no\n"
     ]
    },
    {
     "name": "stdout",
     "output_type": "stream",
     "text": [
      "90 jumping jacks are remaining\n"
     ]
    },
    {
     "name": "stdin",
     "output_type": "stream",
     "text": [
      "Are you tired? (yes/no):  no\n"
     ]
    },
    {
     "name": "stdout",
     "output_type": "stream",
     "text": [
      "80 jumping jacks are remaining\n"
     ]
    },
    {
     "name": "stdin",
     "output_type": "stream",
     "text": [
      "Are you tired? (yes/no):  no\n"
     ]
    },
    {
     "name": "stdout",
     "output_type": "stream",
     "text": [
      "70 jumping jacks are remaining\n"
     ]
    },
    {
     "name": "stdin",
     "output_type": "stream",
     "text": [
      "Are you tired? (yes/no):  y\n"
     ]
    },
    {
     "name": "stdout",
     "output_type": "stream",
     "text": [
      "You completed a total of 40 jumping jacks.\n"
     ]
    }
   ],
   "source": [
    "def perform_jumping_jacks():\n",
    "    total_jacks = 100\n",
    "    jacks_per_set = 10\n",
    "    count_set=0\n",
    "    for _ in range(10):\n",
    "        count_set+=10\n",
    "        tired_response = input(\"Are you tired? (yes/no): \").lower()\n",
    "        if tired_response in  (\"yes\" ,\"y\"):\n",
    "            print(f\"You completed a total of {count_set} jumping jacks.\")\n",
    "            break\n",
    "        elif tired_response in (\"no\" ,'n'):\n",
    "            print(f\"{total_jacks - count_set} jumping jacks are remaining\")\n",
    "        else:\n",
    "            print(\"Invalid response. Please enter 'yes' or 'no'.\")\n",
    "\n",
    "    else:\n",
    "        print(\"Congratulations! You've completed the workout\")\n",
    "\n",
    "# Call the function to start the workout\n",
    "perform_jumping_jacks()\n"
   ]
  },
  {
   "cell_type": "code",
   "execution_count": null,
   "id": "e3e1b2ad-8916-4b46-8b8b-f692f762f965",
   "metadata": {},
   "outputs": [],
   "source": []
  }
 ],
 "metadata": {
  "kernelspec": {
   "display_name": "Python 3 (ipykernel)",
   "language": "python",
   "name": "python3"
  },
  "language_info": {
   "codemirror_mode": {
    "name": "ipython",
    "version": 3
   },
   "file_extension": ".py",
   "mimetype": "text/x-python",
   "name": "python",
   "nbconvert_exporter": "python",
   "pygments_lexer": "ipython3",
   "version": "3.12.0"
  }
 },
 "nbformat": 4,
 "nbformat_minor": 5
}
